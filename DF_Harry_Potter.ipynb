{
 "cells": [
  {
   "cell_type": "code",
   "execution_count": 512,
   "metadata": {},
   "outputs": [],
   "source": [
    "import pandas as pd\n",
    "import numpy as np"
   ]
  },
  {
   "cell_type": "code",
   "execution_count": 513,
   "metadata": {},
   "outputs": [],
   "source": [
    "url = '/Users/aliciacaminero/Documents/CURSOS/DATA ANALYSIS BOOTCAMP IRONHACK/MINI-PROYECTOS/lego_harry_potter_sets.csv'\n",
    "df = pd.read_csv(url)"
   ]
  },
  {
   "cell_type": "code",
   "execution_count": 514,
   "metadata": {},
   "outputs": [],
   "source": [
    "# 1º vamos a eliminar las filas en las que todos sus datos son NaN\n",
    "#df_hp.dropna(how='all', inplace=True) -> no hay\n",
    "\n",
    "# Filtra las filas con NaN en las columnas especificadas\n",
    "#df_nan = df[df[['PVP', 'Precio como Nuevo', 'Precio como Usado']].isna().any(axis=1)]\n",
    "\n",
    "#df.dropna(subset=['Año de Lanzamiento', 'Precio como Nuevo', 'Precio como Usado'], inplace=True)\n"
   ]
  },
  {
   "cell_type": "code",
   "execution_count": 515,
   "metadata": {},
   "outputs": [],
   "source": [
    "# Reemplaza valores no convertibles por NaN\n",
    "df['Código del Set'] = pd.to_numeric(df['Código del Set'], errors='coerce')\n",
    "\n",
    "# 2. Rellenar NaN con 0 (o eliminar filas, si prefieres) -> mejor a Int64\n",
    "#df['Código del Set'] = df['Código del Set'].fillna(0)\n",
    "\n",
    "df['Código del Set'] = df['Código del Set'].astype('Int64')"
   ]
  },
  {
   "cell_type": "code",
   "execution_count": 516,
   "metadata": {},
   "outputs": [],
   "source": [
    "df['Precio como Nuevo'] = df['Precio como Nuevo'].str.lstrip('~')\n",
    "df['Precio como Usado'] = df['Precio como Usado'].str.lstrip('~')"
   ]
  },
  {
   "cell_type": "code",
   "execution_count": 517,
   "metadata": {},
   "outputs": [],
   "source": [
    "df.rename(columns={\n",
    "    'PVP': 'PVP $',\n",
    "    'Precio como Nuevo': 'Precio como Nuevo €',\n",
    "    'Precio como Usado': 'Precio como Usado €'\n",
    "}, inplace=True)"
   ]
  },
  {
   "cell_type": "code",
   "execution_count": 518,
   "metadata": {},
   "outputs": [],
   "source": [
    "tasa_conversion = 1.10\n",
    "\n",
    "# Limpiar la columna 'Precio como Nuevo' y transformar a dólares\n",
    "df['Precio como Nuevo €'] = df['Precio como Nuevo €'].replace('Precio nuevo no disponible', np.nan)\n",
    "df['Precio como Nuevo €'] = df['Precio como Nuevo €'].str.lstrip('€')\n",
    "df['Precio como Nuevo $'] = df['Precio como Nuevo €'].astype(float) * tasa_conversion\n",
    "\n",
    "# Limpiar la columna 'Precio como Usado' y transformar a dólares\n",
    "df['Precio como Usado €'] = df['Precio como Usado €'].replace('Precio usado no disponible', np.nan)\n",
    "df['Precio como Usado €'] = df['Precio como Usado €'].str.lstrip('€')\n",
    "df['Precio como Usado $'] = df['Precio como Usado €'].astype(float) * tasa_conversion\n",
    "\n",
    "# Adecuar columna PVP $\n",
    "df['PVP $'] = df['PVP $'].replace('PVP no disponible', np.nan)\n",
    "df['PVP $'] = df['PVP $'].str.lstrip('$')\n",
    "df['PVP $'] = df['PVP $'].str.split(' | ').str[0]\n",
    "df['PVP $'] = df['PVP $'].str.replace(',', '', regex=False)\n",
    "df['PVP $'] = df['PVP $'].astype(float)\n"
   ]
  },
  {
   "cell_type": "code",
   "execution_count": 519,
   "metadata": {},
   "outputs": [],
   "source": [
    "url2 = '/Users/aliciacaminero/Documents/CURSOS/DATA ANALYSIS BOOTCAMP IRONHACK/MINI-PROYECTOS/Tablas descargadas/lego_harry_potter_sets_dl.csv'\n",
    "df_2 = pd.read_csv(url2)"
   ]
  },
  {
   "cell_type": "code",
   "execution_count": 520,
   "metadata": {},
   "outputs": [],
   "source": [
    "df_reducido = df_2[['Number', 'YearFrom', 'SetName']]"
   ]
  },
  {
   "cell_type": "code",
   "execution_count": 521,
   "metadata": {},
   "outputs": [
    {
     "name": "stderr",
     "output_type": "stream",
     "text": [
      "/var/folders/8k/8w_q7kd116v1zrzns3x24cv80000gn/T/ipykernel_3896/69839567.py:3: SettingWithCopyWarning: \n",
      "A value is trying to be set on a copy of a slice from a DataFrame\n",
      "\n",
      "See the caveats in the documentation: https://pandas.pydata.org/pandas-docs/stable/user_guide/indexing.html#returning-a-view-versus-a-copy\n",
      "  df_reducido.dropna(subset=['Number'], inplace=True)\n"
     ]
    }
   ],
   "source": [
    "df_reducido.loc[:, 'Number'] = pd.to_numeric(df_reducido['Number'],errors='coerce')\n",
    "\n",
    "df_reducido.dropna(subset=['Number'], inplace=True)\n",
    "\n",
    "df_reducido.loc[:, 'Number'] = df_reducido['Number'].astype(int)"
   ]
  },
  {
   "cell_type": "code",
   "execution_count": 522,
   "metadata": {},
   "outputs": [],
   "source": [
    "merged_HP_df = pd.merge(df, df_reducido, left_on='Código del Set', right_on='Number', how='left')"
   ]
  },
  {
   "cell_type": "code",
   "execution_count": 523,
   "metadata": {},
   "outputs": [],
   "source": [
    "#merged_HP_df.loc[:, 'YearFrom'] = merged_HP_df['YearFrom'].fillna(0)  # hay que sustituir NaN por un cero si quieres que pase a int -> si quieres mantener NaN Int64\n",
    "merged_HP_df['YearFrom'] = merged_HP_df['YearFrom'].astype('Int64')"
   ]
  },
  {
   "cell_type": "code",
   "execution_count": 524,
   "metadata": {},
   "outputs": [],
   "source": [
    "merged_HP_df.drop(columns=['Precio como Nuevo €', 'Precio como Usado €', 'Number'], inplace=True)"
   ]
  },
  {
   "cell_type": "code",
   "execution_count": 525,
   "metadata": {},
   "outputs": [],
   "source": [
    "# Crear la nueva columna 'FinalSetName' usando fillna -> para que principalmente aparezca SetName pero si aqui hay un NaN sea sustituido por Nombre del Set\n",
    "merged_HP_df['FinalSetName'] = merged_HP_df['SetName'].fillna(merged_HP_df['Nombre del Set'])"
   ]
  },
  {
   "cell_type": "code",
   "execution_count": 526,
   "metadata": {},
   "outputs": [],
   "source": [
    "merged_HP_df.drop(columns=['Nombre del Set', 'SetName'], inplace=True)"
   ]
  },
  {
   "cell_type": "code",
   "execution_count": 527,
   "metadata": {},
   "outputs": [],
   "source": [
    "new_orden = ['Código del Set', 'FinalSetName', 'Año de Lanzamiento', 'YearFrom', 'PVP $', 'Precio como Nuevo $', 'Precio como Usado $', 'Valoración de Usuarios']\n",
    "\n",
    "HP_df = merged_HP_df[new_orden]"
   ]
  },
  {
   "cell_type": "code",
   "execution_count": 528,
   "metadata": {},
   "outputs": [],
   "source": [
    "HP_df.rename(columns={\n",
    "    'FinalSetName': 'Nombre del Set',\n",
    "    'Año de Lanzamiento': 'Fecha de Lanzamiento',\n",
    "    'YearFrom': 'Año de Lanzamiento'\n",
    "}, inplace=True)"
   ]
  },
  {
   "cell_type": "code",
   "execution_count": 529,
   "metadata": {},
   "outputs": [
    {
     "data": {
      "text/plain": [
       "Código del Set             object\n",
       "Año de Lanzamiento         object\n",
       "PVP $                     float64\n",
       "Valoración de Usuarios     object\n",
       "Precio como Nuevo $       float64\n",
       "Precio como Usado $       float64\n",
       "YearFrom                    Int64\n",
       "FinalSetName               object\n",
       "dtype: object"
      ]
     },
     "execution_count": 529,
     "metadata": {},
     "output_type": "execute_result"
    }
   ],
   "source": [
    "tipos_columnas = merged_HP_df.dtypes\n",
    "\n",
    "tipos_columnas"
   ]
  },
  {
   "cell_type": "code",
   "execution_count": 530,
   "metadata": {},
   "outputs": [
    {
     "data": {
      "text/html": [
       "<div>\n",
       "<style scoped>\n",
       "    .dataframe tbody tr th:only-of-type {\n",
       "        vertical-align: middle;\n",
       "    }\n",
       "\n",
       "    .dataframe tbody tr th {\n",
       "        vertical-align: top;\n",
       "    }\n",
       "\n",
       "    .dataframe thead th {\n",
       "        text-align: right;\n",
       "    }\n",
       "</style>\n",
       "<table border=\"1\" class=\"dataframe\">\n",
       "  <thead>\n",
       "    <tr style=\"text-align: right;\">\n",
       "      <th></th>\n",
       "      <th>Código del Set</th>\n",
       "      <th>Nombre del Set</th>\n",
       "      <th>Fecha de Lanzamiento</th>\n",
       "      <th>Año de Lanzamiento</th>\n",
       "      <th>PVP $</th>\n",
       "      <th>Precio como Nuevo $</th>\n",
       "      <th>Precio como Usado $</th>\n",
       "      <th>Valoración de Usuarios</th>\n",
       "    </tr>\n",
       "  </thead>\n",
       "  <tbody>\n",
       "    <tr>\n",
       "      <th>0</th>\n",
       "      <td>4695</td>\n",
       "      <td>Mini Harry Potter Knight Bus</td>\n",
       "      <td>1 Apr 2004 - 31 Dec 2004 (9m)</td>\n",
       "      <td>2004</td>\n",
       "      <td>NaN</td>\n",
       "      <td>23.914</td>\n",
       "      <td>8.866</td>\n",
       "      <td>✭✭✭✭✩ 3.6 64 ratings 11 reviews</td>\n",
       "    </tr>\n",
       "    <tr>\n",
       "      <th>1</th>\n",
       "      <td>4701</td>\n",
       "      <td>Sorting Hat</td>\n",
       "      <td>1 Sep 2001 - 31 Dec 2002 (1y 3m 29d)</td>\n",
       "      <td>2001</td>\n",
       "      <td>7.0</td>\n",
       "      <td>87.659</td>\n",
       "      <td>13.563</td>\n",
       "      <td>✭✭✭✭✩ 3.4 154 ratings 19 reviews</td>\n",
       "    </tr>\n",
       "    <tr>\n",
       "      <th>2</th>\n",
       "      <td>4702</td>\n",
       "      <td>The Final Challenge</td>\n",
       "      <td>1 Sep 2001 - 31 Dec 2002 (1y 3m 29d)</td>\n",
       "      <td>2001</td>\n",
       "      <td>10.0</td>\n",
       "      <td>44.979</td>\n",
       "      <td>17.688</td>\n",
       "      <td>✭✭✭✭✩ 3.6 154 ratings 14 reviews</td>\n",
       "    </tr>\n",
       "    <tr>\n",
       "      <th>3</th>\n",
       "      <td>4704</td>\n",
       "      <td>The Chamber of the Winged Keys</td>\n",
       "      <td>1 Sep 2001 - 31 Dec 2002 (1y 3m 29d)</td>\n",
       "      <td>2001</td>\n",
       "      <td>20.0</td>\n",
       "      <td>91.707</td>\n",
       "      <td>35.123</td>\n",
       "      <td>✭✭✭✭✩ 3.7 95 ratings 9 reviews</td>\n",
       "    </tr>\n",
       "    <tr>\n",
       "      <th>4</th>\n",
       "      <td>4705</td>\n",
       "      <td>Snape's Class</td>\n",
       "      <td>1 Sep 2001 - 31 Dec 2002 (1y 3m 29d)</td>\n",
       "      <td>2001</td>\n",
       "      <td>20.0</td>\n",
       "      <td>67.727</td>\n",
       "      <td>31.515</td>\n",
       "      <td>✭✭✭✭✩ 3.8 121 ratings 13 reviews</td>\n",
       "    </tr>\n",
       "    <tr>\n",
       "      <th>...</th>\n",
       "      <td>...</td>\n",
       "      <td>...</td>\n",
       "      <td>...</td>\n",
       "      <td>...</td>\n",
       "      <td>...</td>\n",
       "      <td>...</td>\n",
       "      <td>...</td>\n",
       "      <td>...</td>\n",
       "    </tr>\n",
       "    <tr>\n",
       "      <th>171</th>\n",
       "      <td>&lt;NA&gt;</td>\n",
       "      <td>Knight Bus</td>\n",
       "      <td>Año no disponible</td>\n",
       "      <td>&lt;NA&gt;</td>\n",
       "      <td>NaN</td>\n",
       "      <td>NaN</td>\n",
       "      <td>NaN</td>\n",
       "      <td>NaN</td>\n",
       "    </tr>\n",
       "    <tr>\n",
       "      <th>172</th>\n",
       "      <td>&lt;NA&gt;</td>\n",
       "      <td>Voldemort</td>\n",
       "      <td>Año no disponible</td>\n",
       "      <td>&lt;NA&gt;</td>\n",
       "      <td>0.0</td>\n",
       "      <td>NaN</td>\n",
       "      <td>NaN</td>\n",
       "      <td>NaN</td>\n",
       "    </tr>\n",
       "    <tr>\n",
       "      <th>173</th>\n",
       "      <td>&lt;NA&gt;</td>\n",
       "      <td>Golden Snitch</td>\n",
       "      <td>Año no disponible</td>\n",
       "      <td>&lt;NA&gt;</td>\n",
       "      <td>NaN</td>\n",
       "      <td>10.439</td>\n",
       "      <td>12.441</td>\n",
       "      <td>NaN</td>\n",
       "    </tr>\n",
       "    <tr>\n",
       "      <th>174</th>\n",
       "      <td>&lt;NA&gt;</td>\n",
       "      <td>Quidditch Tower (TRU Event Exclusive)</td>\n",
       "      <td>Año no disponible</td>\n",
       "      <td>&lt;NA&gt;</td>\n",
       "      <td>NaN</td>\n",
       "      <td>NaN</td>\n",
       "      <td>24.178</td>\n",
       "      <td>1 review</td>\n",
       "    </tr>\n",
       "    <tr>\n",
       "      <th>175</th>\n",
       "      <td>&lt;NA&gt;</td>\n",
       "      <td>The Weasleys' car</td>\n",
       "      <td>Año no disponible</td>\n",
       "      <td>&lt;NA&gt;</td>\n",
       "      <td>NaN</td>\n",
       "      <td>NaN</td>\n",
       "      <td>14.949</td>\n",
       "      <td>NaN</td>\n",
       "    </tr>\n",
       "  </tbody>\n",
       "</table>\n",
       "<p>176 rows × 8 columns</p>\n",
       "</div>"
      ],
      "text/plain": [
       "    Código del Set                         Nombre del Set  \\\n",
       "0             4695           Mini Harry Potter Knight Bus   \n",
       "1             4701                            Sorting Hat   \n",
       "2             4702                    The Final Challenge   \n",
       "3             4704         The Chamber of the Winged Keys   \n",
       "4             4705                          Snape's Class   \n",
       "..             ...                                    ...   \n",
       "171           <NA>                             Knight Bus   \n",
       "172           <NA>                              Voldemort   \n",
       "173           <NA>                          Golden Snitch   \n",
       "174           <NA>  Quidditch Tower (TRU Event Exclusive)   \n",
       "175           <NA>                      The Weasleys' car   \n",
       "\n",
       "                     Fecha de Lanzamiento  Año de Lanzamiento  PVP $  \\\n",
       "0           1 Apr 2004 - 31 Dec 2004 (9m)                2004    NaN   \n",
       "1    1 Sep 2001 - 31 Dec 2002 (1y 3m 29d)                2001    7.0   \n",
       "2    1 Sep 2001 - 31 Dec 2002 (1y 3m 29d)                2001   10.0   \n",
       "3    1 Sep 2001 - 31 Dec 2002 (1y 3m 29d)                2001   20.0   \n",
       "4    1 Sep 2001 - 31 Dec 2002 (1y 3m 29d)                2001   20.0   \n",
       "..                                    ...                 ...    ...   \n",
       "171                     Año no disponible                <NA>    NaN   \n",
       "172                     Año no disponible                <NA>    0.0   \n",
       "173                     Año no disponible                <NA>    NaN   \n",
       "174                     Año no disponible                <NA>    NaN   \n",
       "175                     Año no disponible                <NA>    NaN   \n",
       "\n",
       "     Precio como Nuevo $  Precio como Usado $  \\\n",
       "0                 23.914                8.866   \n",
       "1                 87.659               13.563   \n",
       "2                 44.979               17.688   \n",
       "3                 91.707               35.123   \n",
       "4                 67.727               31.515   \n",
       "..                   ...                  ...   \n",
       "171                  NaN                  NaN   \n",
       "172                  NaN                  NaN   \n",
       "173               10.439               12.441   \n",
       "174                  NaN               24.178   \n",
       "175                  NaN               14.949   \n",
       "\n",
       "               Valoración de Usuarios  \n",
       "0     ✭✭✭✭✩ 3.6 64 ratings 11 reviews  \n",
       "1    ✭✭✭✭✩ 3.4 154 ratings 19 reviews  \n",
       "2    ✭✭✭✭✩ 3.6 154 ratings 14 reviews  \n",
       "3      ✭✭✭✭✩ 3.7 95 ratings 9 reviews  \n",
       "4    ✭✭✭✭✩ 3.8 121 ratings 13 reviews  \n",
       "..                                ...  \n",
       "171                               NaN  \n",
       "172                               NaN  \n",
       "173                               NaN  \n",
       "174                          1 review  \n",
       "175                               NaN  \n",
       "\n",
       "[176 rows x 8 columns]"
      ]
     },
     "execution_count": 530,
     "metadata": {},
     "output_type": "execute_result"
    }
   ],
   "source": [
    "HP_df"
   ]
  }
 ],
 "metadata": {
  "kernelspec": {
   "display_name": "Python 3",
   "language": "python",
   "name": "python3"
  },
  "language_info": {
   "codemirror_mode": {
    "name": "ipython",
    "version": 3
   },
   "file_extension": ".py",
   "mimetype": "text/x-python",
   "name": "python",
   "nbconvert_exporter": "python",
   "pygments_lexer": "ipython3",
   "version": "3.9.6"
  }
 },
 "nbformat": 4,
 "nbformat_minor": 2
}
