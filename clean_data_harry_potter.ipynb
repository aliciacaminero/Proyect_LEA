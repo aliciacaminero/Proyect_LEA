{
 "cells": [
  {
   "cell_type": "code",
   "execution_count": 11,
   "metadata": {},
   "outputs": [
    {
     "name": "stdout",
     "output_type": "stream",
     "text": [
      "<class 'pandas.core.frame.DataFrame'>\n",
      "RangeIndex: 8 entries, 0 to 7\n",
      "Data columns (total 4 columns):\n",
      " #   Column        Non-Null Count  Dtype \n",
      "---  ------        --------------  ----- \n",
      " 0   title         8 non-null      object\n",
      " 1   type          8 non-null      object\n",
      " 2   release_date  8 non-null      object\n",
      " 3   overview      8 non-null      object\n",
      "dtypes: object(4)\n",
      "memory usage: 388.0+ bytes\n",
      "                                          title   type release_date  \\\n",
      "0      Harry Potter and the Philosopher's Stone  movie   2001-11-16   \n",
      "1       Harry Potter and the Chamber of Secrets  movie   2002-11-13   \n",
      "2        Harry Potter and the Half-Blood Prince  movie   2009-07-15   \n",
      "3      Harry Potter and the Prisoner of Azkaban  movie   2004-05-31   \n",
      "4           Harry Potter and the Goblet of Fire  movie   2005-11-16   \n",
      "5  Harry Potter and the Deathly Hallows: Part 2  movie   2011-07-12   \n",
      "6  Harry Potter and the Deathly Hallows: Part 1  movie   2010-11-17   \n",
      "7     Harry Potter and the Order of the Phoenix  movie   2007-07-08   \n",
      "\n",
      "                                            overview  year  \n",
      "0  Harry Potter has lived under the stairs at his...  2001  \n",
      "1  Cars fly, trees fight back, and a mysterious h...  2002  \n",
      "2  As Lord Voldemort tightens his grip on both th...  2009  \n",
      "3  Year three at Hogwarts means new fun and chall...  2004  \n",
      "4  When Harry Potter's name emerges from the Gobl...  2005  \n",
      "5  Harry, Ron and Hermione continue their quest t...  2011  \n",
      "6  Harry, Ron and Hermione walk away from their l...  2010  \n",
      "7  Returning for his fifth year of study at Hogwa...  2007  \n"
     ]
    },
    {
     "name": "stderr",
     "output_type": "stream",
     "text": [
      "C:\\Users\\Ema\\AppData\\Local\\Temp\\ipykernel_6132\\375805450.py:11: SettingWithCopyWarning: \n",
      "A value is trying to be set on a copy of a slice from a DataFrame.\n",
      "Try using .loc[row_indexer,col_indexer] = value instead\n",
      "\n",
      "See the caveats in the documentation: https://pandas.pydata.org/pandas-docs/stable/user_guide/indexing.html#returning-a-view-versus-a-copy\n",
      "  df_filtered['release_date'] = pd.to_datetime(df_filtered['release_date'], errors='coerce')\n",
      "C:\\Users\\Ema\\AppData\\Local\\Temp\\ipykernel_6132\\375805450.py:12: SettingWithCopyWarning: \n",
      "A value is trying to be set on a copy of a slice from a DataFrame.\n",
      "Try using .loc[row_indexer,col_indexer] = value instead\n",
      "\n",
      "See the caveats in the documentation: https://pandas.pydata.org/pandas-docs/stable/user_guide/indexing.html#returning-a-view-versus-a-copy\n",
      "  df_filtered['year'] = df_filtered['release_date'].dt.year\n"
     ]
    }
   ],
   "source": [
    "import pandas as pd\n",
    "\n",
    "# Carga el archivo CSV en un DataFrame\n",
    "df = pd.read_csv('./harry_potter_movies.csv')\n",
    "\n",
    "#filter original movies\n",
    "df_filtered = df.iloc[0:8]\n",
    "\n",
    "#create year column\n",
    "df_filtered.info()\n",
    "df_filtered['release_date'] = pd.to_datetime(df_filtered['release_date'], errors='coerce')\n",
    "df_filtered['year'] = df_filtered['release_date'].dt.year\n",
    "\n",
    "# Muestra las primeras filas del archivo\n",
    "print(df_filtered)"
   ]
  }
 ],
 "metadata": {
  "kernelspec": {
   "display_name": "Python 3",
   "language": "python",
   "name": "python3"
  },
  "language_info": {
   "codemirror_mode": {
    "name": "ipython",
    "version": 3
   },
   "file_extension": ".py",
   "mimetype": "text/x-python",
   "name": "python",
   "nbconvert_exporter": "python",
   "pygments_lexer": "ipython3",
   "version": "3.12.1"
  }
 },
 "nbformat": 4,
 "nbformat_minor": 2
}
