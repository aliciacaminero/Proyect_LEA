{
 "cells": [
  {
   "cell_type": "code",
   "execution_count": 2,
   "metadata": {},
   "outputs": [
    {
     "name": "stdout",
     "output_type": "stream",
     "text": [
      "<class 'pandas.core.frame.DataFrame'>\n",
      "RangeIndex: 94 entries, 0 to 93\n",
      "Data columns (total 4 columns):\n",
      " #   Column        Non-Null Count  Dtype \n",
      "---  ------        --------------  ----- \n",
      " 0   title         94 non-null     object\n",
      " 1   type          94 non-null     object\n",
      " 2   release_date  89 non-null     object\n",
      " 3   overview      94 non-null     object\n",
      "dtypes: object(4)\n",
      "memory usage: 3.1+ KB\n",
      "                                                title   type release_date  \\\n",
      "0                                 Ultimate Avengers 2  movie   2006-08-08   \n",
      "1                                         Ghost Rider  movie   2007-01-15   \n",
      "2                             The Invincible Iron Man  movie   2007-01-23   \n",
      "3                                        Spider-Man 3  movie   2007-05-01   \n",
      "4                            Jack Kirby: Story Teller  movie   2007-06-05   \n",
      "..                                                ...    ...          ...   \n",
      "78  Marvel Studios Assembled: The Making of Loki S...  movie   2023-11-22   \n",
      "79       Marvel Studios Assembled: The Making of Echo  movie   2024-01-31   \n",
      "80  Marvel Studios Assembled: The Making of The Ma...  movie   2024-02-06   \n",
      "81  Marvel Studios Assembled: The Making of X-Men '97  movie   2024-05-21   \n",
      "82                               Deadpool & Wolverine  movie   2024-07-24   \n",
      "\n",
      "                                             overview  year  \n",
      "0   Mysterious Wakanda lies in the darkest heart o...  2006  \n",
      "1   In order to save his dying father, young stunt...  2007  \n",
      "2   When a cocky industrialist's efforts to raise ...  2007  \n",
      "3   The seemingly invincible Spider-Man goes up ag...  2007  \n",
      "4   A documentary on the life of Jack Kirby, co-cr...  2007  \n",
      "..                                                ...   ...  \n",
      "78  Through candid interviews with the creative mi...  2023  \n",
      "79  Join us on a revealing journey behind-the-scen...  2024  \n",
      "80  Take an intergalactic trip with the cast and c...  2024  \n",
      "81  Spend time with the original cast, along with ...  2024  \n",
      "82  A listless Wade Wilson toils away in civilian ...  2024  \n",
      "\n",
      "[83 rows x 5 columns]\n"
     ]
    }
   ],
   "source": [
    "import pandas as pd\n",
    "\n",
    "# Carga el archivo CSV en un DataFrame\n",
    "df = pd.read_csv('./marvel_movies.csv')\n",
    "\n",
    "df.info()\n",
    "df['release_date'] = pd.to_datetime(df['release_date'], errors='coerce')\n",
    "df['year'] = df['release_date'].dt.year.astype('Int64')\n",
    "df = df.dropna(subset=['release_date'])\n",
    "\n",
    "#release year from 1999\n",
    "df = df[(df['year'] >= 1999) & (df['year'] <= 2024)]\n",
    "\n",
    "\n",
    "print(df)\n",
    "\n",
    "df.to_csv('marvel_movies_c.csv')"
   ]
  }
 ],
 "metadata": {
  "kernelspec": {
   "display_name": "Python 3",
   "language": "python",
   "name": "python3"
  },
  "language_info": {
   "codemirror_mode": {
    "name": "ipython",
    "version": 3
   },
   "file_extension": ".py",
   "mimetype": "text/x-python",
   "name": "python",
   "nbconvert_exporter": "python",
   "pygments_lexer": "ipython3",
   "version": "3.12.1"
  }
 },
 "nbformat": 4,
 "nbformat_minor": 2
}
