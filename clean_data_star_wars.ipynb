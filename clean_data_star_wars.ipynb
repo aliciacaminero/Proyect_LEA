{
 "cells": [
  {
   "cell_type": "code",
   "execution_count": 1,
   "metadata": {},
   "outputs": [
    {
     "name": "stdout",
     "output_type": "stream",
     "text": [
      "<class 'pandas.core.frame.DataFrame'>\n",
      "RangeIndex: 234 entries, 0 to 233\n",
      "Data columns (total 4 columns):\n",
      " #   Column        Non-Null Count  Dtype \n",
      "---  ------        --------------  ----- \n",
      " 0   title         234 non-null    object\n",
      " 1   type          234 non-null    object\n",
      " 2   release_date  214 non-null    object\n",
      " 3   overview      221 non-null    object\n",
      "dtypes: object(4)\n",
      "memory usage: 7.4+ KB\n",
      "                                                 title   type release_date  \\\n",
      "6                         Star Wars: The Force Awakens  movie   2015-12-15   \n",
      "9                             Star Wars: The Last Jedi  movie   2017-12-13   \n",
      "10                        Rogue One: A Star Wars Story  movie   2016-12-14   \n",
      "13                    Star Wars: The Rise of Skywalker  movie   2019-12-18   \n",
      "16                             Solo: A Star Wars Story  movie   2018-05-15   \n",
      "..                                                 ...    ...          ...   \n",
      "225  The Visual Effects of Ahsoka with Dave Filoni ...  movie   2024-06-22   \n",
      "226                    Building Empire: A Filmumentary  movie   2006-03-02   \n",
      "227                                            Hoshino  movie   2016-11-01   \n",
      "229               Ralph McQuarrie: Tribute to a Master  movie   2014-03-05   \n",
      "230  John Williams & Berliner Philharmonic - The Be...  movie   2022-02-04   \n",
      "\n",
      "                                              overview  year  \n",
      "6    Thirty years after defeating the Galactic Empi...  2015  \n",
      "9    Rey develops her newly discovered abilities wi...  2017  \n",
      "10   A rogue band of resistance fighters unite for ...  2016  \n",
      "13   The surviving Resistance faces the First Order...  2019  \n",
      "16   Through a series of daring escapades deep with...  2018  \n",
      "..                                                 ...   ...  \n",
      "225  Join creator Dave Filoni, Production Visual Ef...  2024  \n",
      "226  Building Empire is an unofficial commentary on...  2006  \n",
      "227  The tale of blind Jedi Master Ko Hoshino and h...  2016  \n",
      "229  Ralph McQuarrie, concept artist of the origina...  2014  \n",
      "230  John Williams has made cinematic history with ...  2022  \n",
      "\n",
      "[120 rows x 5 columns]\n"
     ]
    }
   ],
   "source": [
    "import pandas as pd\n",
    "\n",
    "# Carga el archivo CSV en un DataFrame\n",
    "df = pd.read_csv('./star_wars_movies_and_series.csv')\n",
    "\n",
    "df.info()\n",
    "df['release_date'] = pd.to_datetime(df['release_date'], errors='coerce')\n",
    "df['year'] = df['release_date'].dt.year.astype('Int64')\n",
    "df = df.dropna(subset=['release_date'])\n",
    "\n",
    "#release year from 1999\n",
    "df = df[df['year'] >= 1999]\n",
    "df = df[df['type'] == \"movie\"]\n",
    "\n",
    "print(df)"
   ]
  }
 ],
 "metadata": {
  "kernelspec": {
   "display_name": "Python 3",
   "language": "python",
   "name": "python3"
  },
  "language_info": {
   "codemirror_mode": {
    "name": "ipython",
    "version": 3
   },
   "file_extension": ".py",
   "mimetype": "text/x-python",
   "name": "python",
   "nbconvert_exporter": "python",
   "pygments_lexer": "ipython3",
   "version": "3.12.1"
  }
 },
 "nbformat": 4,
 "nbformat_minor": 2
}
