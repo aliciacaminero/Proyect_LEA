{
 "cells": [
  {
   "cell_type": "code",
   "execution_count": 251,
   "metadata": {},
   "outputs": [],
   "source": [
    "import pandas as pd\n",
    "\n",
    "# Carga el archivo CSV en un DataFrame\n",
    "df = pd.read_csv('./star_wars_movies_and_series.csv')"
   ]
  },
  {
   "cell_type": "code",
   "execution_count": 252,
   "metadata": {},
   "outputs": [
    {
     "name": "stdout",
     "output_type": "stream",
     "text": [
      "<class 'pandas.core.frame.DataFrame'>\n",
      "RangeIndex: 234 entries, 0 to 233\n",
      "Data columns (total 4 columns):\n",
      " #   Column        Non-Null Count  Dtype \n",
      "---  ------        --------------  ----- \n",
      " 0   title         234 non-null    object\n",
      " 1   type          234 non-null    object\n",
      " 2   release_date  214 non-null    object\n",
      " 3   overview      221 non-null    object\n",
      "dtypes: object(4)\n",
      "memory usage: 7.4+ KB\n"
     ]
    }
   ],
   "source": [
    "df.info()\n",
    "df['release_date'] = pd.to_datetime(df['release_date'], errors='coerce')\n",
    "df['year'] = df['release_date'].dt.year.astype('Int64')\n",
    "df = df.dropna(subset=['release_date'])\n",
    "\n",
    "#release year from 1999\n",
    "df = df[df['year'] >= 1999]\n",
    "df = df[df['type'] == \"movie\"]\n"
   ]
  },
  {
   "cell_type": "code",
   "execution_count": 253,
   "metadata": {},
   "outputs": [],
   "source": [
    "df = df.dropna(subset=['overview'])\n"
   ]
  },
  {
   "cell_type": "code",
   "execution_count": 254,
   "metadata": {},
   "outputs": [],
   "source": [
    "# Define una lista de palabras clave que quieres conservar\n",
    "titulos_a_conservar = [\"star wars\", \"lego\", \"solo\", \"rogue\", \"clone wars\"]\n",
    "\n",
    "# Filtra el DataFrame manteniendo solo los títulos que contengan alguna de las palabras clave, sin distinguir mayúsculas/minúsculas\n",
    "df = df[df['title'].str.lower().str.contains('|'.join(titulos_a_conservar))]\n"
   ]
  },
  {
   "cell_type": "code",
   "execution_count": 255,
   "metadata": {},
   "outputs": [],
   "source": [
    "# Define una lista de palabras o frases que quieres eliminar\n",
    "titulos_a_eliminar = [\"Kabuki\", \"Real Life\", \"Robot Chicken\", \"Phineas and Ferb\", \"Doraemon\", \"Plastic Galaxy\", \"When Star Wars Ruled the World\", \"How Star Wars Changed the World\", \n",
    "                      \"Star Wars: Within a Minute - The Making of Episode III\", \"Quentin Tarantino's\", \"Edit\", \"Symphony Orchestra\", \"Joseph Campbell\", \"Filmumentary\", \"The Naboo Movie\",\n",
    "                      \"Fan Film\", \"Betrayal\", \"Britain\", \"Cards\", \"Mythology\", \"Mockumentary\", \"Squadrons\", \"Musical\", \"Scout\", \"British\", \"Spoofs\", \"BBC\", \"Voice of a Star Wars Fan\", \"Hollywood\",\n",
    "                      \"Deleted Magic\", \"The Definitive History\", \"The Stars of Star Wars\", \"The Last Padawan\", \"Making\", \"Star Wars: Heroes & Villains\", \"Kid\", \"Characters\", \"Tech\", \"Holiday Special\",\n",
    "                      \"Rebels\", \"Biomes\", \"Dreams\", \"Industrial\", \"Adventure Awaits\", \"Saving Star Wars\", \"Greatest Moments\", \"The Lost Relic\", \"Protector\", \"The Secret of Star Wars\", \n",
    "                      \"Star Wars: Threads of Destiny\", \"Battle Star Wars\", \"Darth Maul Returns\", \"The Story of Star Wars\", \"Star Trek\", \"Lightsaber\"]\n",
    "\n",
    "# Filtra los títulos usando contains, ignorando mayúsculas/minúsculas\n",
    "df = df[~df['title'].str.lower().str.contains('|'.join([titulo.lower() for titulo in titulos_a_eliminar]))]\n"
   ]
  },
  {
   "cell_type": "code",
   "execution_count": 256,
   "metadata": {},
   "outputs": [
    {
     "name": "stdout",
     "output_type": "stream",
     "text": [
      "<class 'pandas.core.frame.DataFrame'>\n",
      "Index: 20 entries, 6 to 187\n",
      "Data columns (total 5 columns):\n",
      " #   Column        Non-Null Count  Dtype         \n",
      "---  ------        --------------  -----         \n",
      " 0   title         20 non-null     object        \n",
      " 1   type          20 non-null     object        \n",
      " 2   release_date  20 non-null     datetime64[ns]\n",
      " 3   overview      20 non-null     object        \n",
      " 4   year          20 non-null     Int64         \n",
      "dtypes: Int64(1), datetime64[ns](1), object(3)\n",
      "memory usage: 980.0+ bytes\n"
     ]
    }
   ],
   "source": [
    "df.info()"
   ]
  },
  {
   "cell_type": "code",
   "execution_count": 257,
   "metadata": {},
   "outputs": [],
   "source": [
    "df.to_csv(\"./star_wars_movies_c.csv\")"
   ]
  }
 ],
 "metadata": {
  "kernelspec": {
   "display_name": "Python 3",
   "language": "python",
   "name": "python3"
  },
  "language_info": {
   "codemirror_mode": {
    "name": "ipython",
    "version": 3
   },
   "file_extension": ".py",
   "mimetype": "text/x-python",
   "name": "python",
   "nbconvert_exporter": "python",
   "pygments_lexer": "ipython3",
   "version": "3.9.6"
  }
 },
 "nbformat": 4,
 "nbformat_minor": 2
}
